{
 "cells": [
  {
   "cell_type": "code",
   "execution_count": 1,
   "id": "cc0471a0",
   "metadata": {},
   "outputs": [],
   "source": [
    "import numpy as np \n",
    "import pandas as pd\n",
    "import matplotlib.pyplot as plt \n",
    "import seaborn as sns\n",
    "from warnings import filterwarnings \n",
    "filterwarnings(\"ignore\")"
   ]
  },
  {
   "cell_type": "markdown",
   "id": "b63138ae",
   "metadata": {},
   "source": [
    "# preprocessing"
   ]
  },
  {
   "cell_type": "code",
   "execution_count": 2,
   "id": "68987207",
   "metadata": {},
   "outputs": [],
   "source": [
    "df = pd.read_csv(\"train (2).csv\")"
   ]
  },
  {
   "cell_type": "code",
   "execution_count": 3,
   "id": "46a3d0a6",
   "metadata": {},
   "outputs": [
    {
     "data": {
      "text/html": [
       "<div>\n",
       "<style scoped>\n",
       "    .dataframe tbody tr th:only-of-type {\n",
       "        vertical-align: middle;\n",
       "    }\n",
       "\n",
       "    .dataframe tbody tr th {\n",
       "        vertical-align: top;\n",
       "    }\n",
       "\n",
       "    .dataframe thead th {\n",
       "        text-align: right;\n",
       "    }\n",
       "</style>\n",
       "<table border=\"1\" class=\"dataframe\">\n",
       "  <thead>\n",
       "    <tr style=\"text-align: right;\">\n",
       "      <th></th>\n",
       "      <th>PassengerId</th>\n",
       "      <th>Survived</th>\n",
       "      <th>Pclass</th>\n",
       "      <th>Name</th>\n",
       "      <th>Sex</th>\n",
       "      <th>Age</th>\n",
       "      <th>SibSp</th>\n",
       "      <th>Parch</th>\n",
       "      <th>Ticket</th>\n",
       "      <th>Fare</th>\n",
       "      <th>Cabin</th>\n",
       "      <th>Embarked</th>\n",
       "    </tr>\n",
       "  </thead>\n",
       "  <tbody>\n",
       "    <tr>\n",
       "      <th>0</th>\n",
       "      <td>1</td>\n",
       "      <td>0</td>\n",
       "      <td>3</td>\n",
       "      <td>Braund, Mr. Owen Harris</td>\n",
       "      <td>male</td>\n",
       "      <td>22.0</td>\n",
       "      <td>1</td>\n",
       "      <td>0</td>\n",
       "      <td>A/5 21171</td>\n",
       "      <td>7.2500</td>\n",
       "      <td>NaN</td>\n",
       "      <td>S</td>\n",
       "    </tr>\n",
       "    <tr>\n",
       "      <th>1</th>\n",
       "      <td>2</td>\n",
       "      <td>1</td>\n",
       "      <td>1</td>\n",
       "      <td>Cumings, Mrs. John Bradley (Florence Briggs Th...</td>\n",
       "      <td>female</td>\n",
       "      <td>38.0</td>\n",
       "      <td>1</td>\n",
       "      <td>0</td>\n",
       "      <td>PC 17599</td>\n",
       "      <td>71.2833</td>\n",
       "      <td>C85</td>\n",
       "      <td>C</td>\n",
       "    </tr>\n",
       "    <tr>\n",
       "      <th>2</th>\n",
       "      <td>3</td>\n",
       "      <td>1</td>\n",
       "      <td>3</td>\n",
       "      <td>Heikkinen, Miss. Laina</td>\n",
       "      <td>female</td>\n",
       "      <td>26.0</td>\n",
       "      <td>0</td>\n",
       "      <td>0</td>\n",
       "      <td>STON/O2. 3101282</td>\n",
       "      <td>7.9250</td>\n",
       "      <td>NaN</td>\n",
       "      <td>S</td>\n",
       "    </tr>\n",
       "    <tr>\n",
       "      <th>3</th>\n",
       "      <td>4</td>\n",
       "      <td>1</td>\n",
       "      <td>1</td>\n",
       "      <td>Futrelle, Mrs. Jacques Heath (Lily May Peel)</td>\n",
       "      <td>female</td>\n",
       "      <td>35.0</td>\n",
       "      <td>1</td>\n",
       "      <td>0</td>\n",
       "      <td>113803</td>\n",
       "      <td>53.1000</td>\n",
       "      <td>C123</td>\n",
       "      <td>S</td>\n",
       "    </tr>\n",
       "    <tr>\n",
       "      <th>4</th>\n",
       "      <td>5</td>\n",
       "      <td>0</td>\n",
       "      <td>3</td>\n",
       "      <td>Allen, Mr. William Henry</td>\n",
       "      <td>male</td>\n",
       "      <td>35.0</td>\n",
       "      <td>0</td>\n",
       "      <td>0</td>\n",
       "      <td>373450</td>\n",
       "      <td>8.0500</td>\n",
       "      <td>NaN</td>\n",
       "      <td>S</td>\n",
       "    </tr>\n",
       "  </tbody>\n",
       "</table>\n",
       "</div>"
      ],
      "text/plain": [
       "   PassengerId  Survived  Pclass  \\\n",
       "0            1         0       3   \n",
       "1            2         1       1   \n",
       "2            3         1       3   \n",
       "3            4         1       1   \n",
       "4            5         0       3   \n",
       "\n",
       "                                                Name     Sex   Age  SibSp  \\\n",
       "0                            Braund, Mr. Owen Harris    male  22.0      1   \n",
       "1  Cumings, Mrs. John Bradley (Florence Briggs Th...  female  38.0      1   \n",
       "2                             Heikkinen, Miss. Laina  female  26.0      0   \n",
       "3       Futrelle, Mrs. Jacques Heath (Lily May Peel)  female  35.0      1   \n",
       "4                           Allen, Mr. William Henry    male  35.0      0   \n",
       "\n",
       "   Parch            Ticket     Fare Cabin Embarked  \n",
       "0      0         A/5 21171   7.2500   NaN        S  \n",
       "1      0          PC 17599  71.2833   C85        C  \n",
       "2      0  STON/O2. 3101282   7.9250   NaN        S  \n",
       "3      0            113803  53.1000  C123        S  \n",
       "4      0            373450   8.0500   NaN        S  "
      ]
     },
     "execution_count": 3,
     "metadata": {},
     "output_type": "execute_result"
    }
   ],
   "source": [
    "df.head()"
   ]
  },
  {
   "cell_type": "code",
   "execution_count": 4,
   "id": "f2171b2a",
   "metadata": {},
   "outputs": [],
   "source": [
    "cols_to_drop = \"PassengerId Name Ticket \".split()"
   ]
  },
  {
   "cell_type": "code",
   "execution_count": 5,
   "id": "20619e62",
   "metadata": {},
   "outputs": [],
   "source": [
    "df.drop(cols_to_drop ,axis=1 ,inplace=True)"
   ]
  },
  {
   "cell_type": "markdown",
   "id": "0267c993",
   "metadata": {},
   "source": [
    "### 2-Dtypes"
   ]
  },
  {
   "cell_type": "code",
   "execution_count": 6,
   "id": "11fd5235",
   "metadata": {},
   "outputs": [
    {
     "data": {
      "text/html": [
       "<div>\n",
       "<style scoped>\n",
       "    .dataframe tbody tr th:only-of-type {\n",
       "        vertical-align: middle;\n",
       "    }\n",
       "\n",
       "    .dataframe tbody tr th {\n",
       "        vertical-align: top;\n",
       "    }\n",
       "\n",
       "    .dataframe thead th {\n",
       "        text-align: right;\n",
       "    }\n",
       "</style>\n",
       "<table border=\"1\" class=\"dataframe\">\n",
       "  <thead>\n",
       "    <tr style=\"text-align: right;\">\n",
       "      <th></th>\n",
       "      <th>Survived</th>\n",
       "      <th>Pclass</th>\n",
       "      <th>Sex</th>\n",
       "      <th>Age</th>\n",
       "      <th>SibSp</th>\n",
       "      <th>Parch</th>\n",
       "      <th>Fare</th>\n",
       "      <th>Cabin</th>\n",
       "      <th>Embarked</th>\n",
       "    </tr>\n",
       "  </thead>\n",
       "  <tbody>\n",
       "    <tr>\n",
       "      <th>dtypes</th>\n",
       "      <td>int64</td>\n",
       "      <td>int64</td>\n",
       "      <td>object</td>\n",
       "      <td>float64</td>\n",
       "      <td>int64</td>\n",
       "      <td>int64</td>\n",
       "      <td>float64</td>\n",
       "      <td>object</td>\n",
       "      <td>object</td>\n",
       "    </tr>\n",
       "    <tr>\n",
       "      <th>n_uniq</th>\n",
       "      <td>2</td>\n",
       "      <td>3</td>\n",
       "      <td>2</td>\n",
       "      <td>88</td>\n",
       "      <td>7</td>\n",
       "      <td>7</td>\n",
       "      <td>248</td>\n",
       "      <td>147</td>\n",
       "      <td>3</td>\n",
       "    </tr>\n",
       "  </tbody>\n",
       "</table>\n",
       "</div>"
      ],
      "text/plain": [
       "       Survived Pclass     Sex      Age  SibSp  Parch     Fare   Cabin  \\\n",
       "dtypes    int64  int64  object  float64  int64  int64  float64  object   \n",
       "n_uniq        2      3       2       88      7      7      248     147   \n",
       "\n",
       "       Embarked  \n",
       "dtypes   object  \n",
       "n_uniq        3  "
      ]
     },
     "execution_count": 6,
     "metadata": {},
     "output_type": "execute_result"
    }
   ],
   "source": [
    "dtypes = df.dtypes\n",
    "n_uniq = df.nunique()\n",
    "pd.DataFrame({\"dtypes\":dtypes,\"n_uniq\":n_uniq}).T"
   ]
  },
  {
   "cell_type": "code",
   "execution_count": 7,
   "id": "40e0949f",
   "metadata": {},
   "outputs": [],
   "source": [
    "cat_cols = \"Survived Pclass Sex SibSp Parch Cabin Embarked\".split()"
   ]
  },
  {
   "cell_type": "code",
   "execution_count": 8,
   "id": "1679bc13",
   "metadata": {},
   "outputs": [],
   "source": [
    "df[cat_cols] = df[cat_cols].astype(\"category\")"
   ]
  },
  {
   "cell_type": "code",
   "execution_count": 9,
   "id": "e113d86a",
   "metadata": {},
   "outputs": [
    {
     "data": {
      "text/html": [
       "<div>\n",
       "<style scoped>\n",
       "    .dataframe tbody tr th:only-of-type {\n",
       "        vertical-align: middle;\n",
       "    }\n",
       "\n",
       "    .dataframe tbody tr th {\n",
       "        vertical-align: top;\n",
       "    }\n",
       "\n",
       "    .dataframe thead th {\n",
       "        text-align: right;\n",
       "    }\n",
       "</style>\n",
       "<table border=\"1\" class=\"dataframe\">\n",
       "  <thead>\n",
       "    <tr style=\"text-align: right;\">\n",
       "      <th></th>\n",
       "      <th>Survived</th>\n",
       "      <th>Pclass</th>\n",
       "      <th>Sex</th>\n",
       "      <th>Age</th>\n",
       "      <th>SibSp</th>\n",
       "      <th>Parch</th>\n",
       "      <th>Fare</th>\n",
       "      <th>Cabin</th>\n",
       "      <th>Embarked</th>\n",
       "    </tr>\n",
       "  </thead>\n",
       "  <tbody>\n",
       "    <tr>\n",
       "      <th>dtypes</th>\n",
       "      <td>category</td>\n",
       "      <td>category</td>\n",
       "      <td>category</td>\n",
       "      <td>float64</td>\n",
       "      <td>category</td>\n",
       "      <td>category</td>\n",
       "      <td>float64</td>\n",
       "      <td>category</td>\n",
       "      <td>category</td>\n",
       "    </tr>\n",
       "    <tr>\n",
       "      <th>n_uniq</th>\n",
       "      <td>2</td>\n",
       "      <td>3</td>\n",
       "      <td>2</td>\n",
       "      <td>88</td>\n",
       "      <td>7</td>\n",
       "      <td>7</td>\n",
       "      <td>248</td>\n",
       "      <td>147</td>\n",
       "      <td>3</td>\n",
       "    </tr>\n",
       "  </tbody>\n",
       "</table>\n",
       "</div>"
      ],
      "text/plain": [
       "        Survived    Pclass       Sex      Age     SibSp     Parch     Fare  \\\n",
       "dtypes  category  category  category  float64  category  category  float64   \n",
       "n_uniq         2         3         2       88         7         7      248   \n",
       "\n",
       "           Cabin  Embarked  \n",
       "dtypes  category  category  \n",
       "n_uniq       147         3  "
      ]
     },
     "execution_count": 9,
     "metadata": {},
     "output_type": "execute_result"
    }
   ],
   "source": [
    "dtypes = df.dtypes\n",
    "n_uniq = df.nunique()\n",
    "pd.DataFrame({\"dtypes\":dtypes,\"n_uniq\":n_uniq}).T"
   ]
  },
  {
   "cell_type": "code",
   "execution_count": 10,
   "id": "3aa1611a",
   "metadata": {},
   "outputs": [],
   "source": [
    "cols = df.columns.tolist()\n",
    "cols.pop(0)\n",
    "cols.append(\"Survived\")\n",
    "df = df[cols]"
   ]
  },
  {
   "cell_type": "code",
   "execution_count": 11,
   "id": "e4283db5",
   "metadata": {},
   "outputs": [
    {
     "data": {
      "text/html": [
       "<div>\n",
       "<style scoped>\n",
       "    .dataframe tbody tr th:only-of-type {\n",
       "        vertical-align: middle;\n",
       "    }\n",
       "\n",
       "    .dataframe tbody tr th {\n",
       "        vertical-align: top;\n",
       "    }\n",
       "\n",
       "    .dataframe thead th {\n",
       "        text-align: right;\n",
       "    }\n",
       "</style>\n",
       "<table border=\"1\" class=\"dataframe\">\n",
       "  <thead>\n",
       "    <tr style=\"text-align: right;\">\n",
       "      <th></th>\n",
       "      <th>Pclass</th>\n",
       "      <th>Sex</th>\n",
       "      <th>Age</th>\n",
       "      <th>SibSp</th>\n",
       "      <th>Parch</th>\n",
       "      <th>Fare</th>\n",
       "      <th>Cabin</th>\n",
       "      <th>Embarked</th>\n",
       "      <th>Survived</th>\n",
       "    </tr>\n",
       "  </thead>\n",
       "  <tbody>\n",
       "    <tr>\n",
       "      <th>0</th>\n",
       "      <td>3</td>\n",
       "      <td>male</td>\n",
       "      <td>22.0</td>\n",
       "      <td>1</td>\n",
       "      <td>0</td>\n",
       "      <td>7.25</td>\n",
       "      <td>NaN</td>\n",
       "      <td>S</td>\n",
       "      <td>0</td>\n",
       "    </tr>\n",
       "  </tbody>\n",
       "</table>\n",
       "</div>"
      ],
      "text/plain": [
       "  Pclass   Sex   Age SibSp Parch  Fare Cabin Embarked Survived\n",
       "0      3  male  22.0     1     0  7.25   NaN        S        0"
      ]
     },
     "execution_count": 11,
     "metadata": {},
     "output_type": "execute_result"
    }
   ],
   "source": [
    "df.head(1)"
   ]
  },
  {
   "cell_type": "code",
   "execution_count": 12,
   "id": "18992e8b",
   "metadata": {},
   "outputs": [
    {
     "data": {
      "text/html": [
       "<div>\n",
       "<style scoped>\n",
       "    .dataframe tbody tr th:only-of-type {\n",
       "        vertical-align: middle;\n",
       "    }\n",
       "\n",
       "    .dataframe tbody tr th {\n",
       "        vertical-align: top;\n",
       "    }\n",
       "\n",
       "    .dataframe thead th {\n",
       "        text-align: right;\n",
       "    }\n",
       "</style>\n",
       "<table border=\"1\" class=\"dataframe\">\n",
       "  <thead>\n",
       "    <tr style=\"text-align: right;\">\n",
       "      <th></th>\n",
       "      <th>Pclass</th>\n",
       "      <th>Sex</th>\n",
       "      <th>Age</th>\n",
       "      <th>SibSp</th>\n",
       "      <th>Parch</th>\n",
       "      <th>Fare</th>\n",
       "      <th>Cabin</th>\n",
       "      <th>Embarked</th>\n",
       "      <th>Survived</th>\n",
       "    </tr>\n",
       "  </thead>\n",
       "  <tbody>\n",
       "    <tr>\n",
       "      <th>null</th>\n",
       "      <td>0.0</td>\n",
       "      <td>0.0</td>\n",
       "      <td>177.000000</td>\n",
       "      <td>0.0</td>\n",
       "      <td>0.0</td>\n",
       "      <td>0.0</td>\n",
       "      <td>687.000000</td>\n",
       "      <td>2.000000</td>\n",
       "      <td>0.0</td>\n",
       "    </tr>\n",
       "    <tr>\n",
       "      <th>null_ratio</th>\n",
       "      <td>0.0</td>\n",
       "      <td>0.0</td>\n",
       "      <td>0.198653</td>\n",
       "      <td>0.0</td>\n",
       "      <td>0.0</td>\n",
       "      <td>0.0</td>\n",
       "      <td>0.771044</td>\n",
       "      <td>0.002245</td>\n",
       "      <td>0.0</td>\n",
       "    </tr>\n",
       "  </tbody>\n",
       "</table>\n",
       "</div>"
      ],
      "text/plain": [
       "            Pclass  Sex         Age  SibSp  Parch  Fare       Cabin  Embarked  \\\n",
       "null           0.0  0.0  177.000000    0.0    0.0   0.0  687.000000  2.000000   \n",
       "null_ratio     0.0  0.0    0.198653    0.0    0.0   0.0    0.771044  0.002245   \n",
       "\n",
       "            Survived  \n",
       "null             0.0  \n",
       "null_ratio       0.0  "
      ]
     },
     "execution_count": 12,
     "metadata": {},
     "output_type": "execute_result"
    }
   ],
   "source": [
    "null = df.isnull().sum()\n",
    "null_ratio = null / df.shape[0]\n",
    "pd.DataFrame({\"null\":null,\"null_ratio\":null_ratio}).T"
   ]
  },
  {
   "cell_type": "code",
   "execution_count": 13,
   "id": "346c1105",
   "metadata": {},
   "outputs": [],
   "source": [
    "df.drop([\"Cabin\"],axis=1 ,inplace=True)"
   ]
  },
  {
   "cell_type": "code",
   "execution_count": 14,
   "id": "cdd985da",
   "metadata": {},
   "outputs": [],
   "source": [
    "df.dropna(subset=[\"Embarked\"],inplace=True)"
   ]
  },
  {
   "cell_type": "markdown",
   "id": "e7a99813",
   "metadata": {},
   "source": [
    "- **replace null values in age**\n",
    "    - because it contains relativly high null values"
   ]
  },
  {
   "cell_type": "code",
   "execution_count": 15,
   "id": "ce92a9aa",
   "metadata": {},
   "outputs": [
    {
     "data": {
      "image/png": "[encoded data removed]",
      "text/plain": [
       "<Figure size 300x300 with 1 Axes>"
      ]
     },
     "metadata": {},
     "output_type": "display_data"
    }
   ],
   "source": [
    "plt.figure(figsize=(3,3))\n",
    "plt.hist(df.Age)\n",
    "plt.show()"
   ]
  },
  {
   "cell_type": "code",
   "execution_count": 16,
   "id": "730c36d6",
   "metadata": {},
   "outputs": [],
   "source": [
    "median = df.Age.median()\n",
    "df.Age.replace(np.nan,median,inplace=True)\n",
    "#df.Age.fillna(median, inplace=True)"
   ]
  },
  {
   "cell_type": "code",
   "execution_count": 17,
   "id": "0eaf626f",
   "metadata": {},
   "outputs": [
    {
     "data": {
      "text/html": [
       "<div>\n",
       "<style scoped>\n",
       "    .dataframe tbody tr th:only-of-type {\n",
       "        vertical-align: middle;\n",
       "    }\n",
       "\n",
       "    .dataframe tbody tr th {\n",
       "        vertical-align: top;\n",
       "    }\n",
       "\n",
       "    .dataframe thead th {\n",
       "        text-align: right;\n",
       "    }\n",
       "</style>\n",
       "<table border=\"1\" class=\"dataframe\">\n",
       "  <thead>\n",
       "    <tr style=\"text-align: right;\">\n",
       "      <th></th>\n",
       "      <th>Pclass</th>\n",
       "      <th>Sex</th>\n",
       "      <th>Age</th>\n",
       "      <th>SibSp</th>\n",
       "      <th>Parch</th>\n",
       "      <th>Fare</th>\n",
       "      <th>Embarked</th>\n",
       "      <th>Survived</th>\n",
       "    </tr>\n",
       "  </thead>\n",
       "  <tbody>\n",
       "    <tr>\n",
       "      <th>null</th>\n",
       "      <td>0.0</td>\n",
       "      <td>0.0</td>\n",
       "      <td>0.0</td>\n",
       "      <td>0.0</td>\n",
       "      <td>0.0</td>\n",
       "      <td>0.0</td>\n",
       "      <td>0.0</td>\n",
       "      <td>0.0</td>\n",
       "    </tr>\n",
       "    <tr>\n",
       "      <th>null_ratio</th>\n",
       "      <td>0.0</td>\n",
       "      <td>0.0</td>\n",
       "      <td>0.0</td>\n",
       "      <td>0.0</td>\n",
       "      <td>0.0</td>\n",
       "      <td>0.0</td>\n",
       "      <td>0.0</td>\n",
       "      <td>0.0</td>\n",
       "    </tr>\n",
       "  </tbody>\n",
       "</table>\n",
       "</div>"
      ],
      "text/plain": [
       "            Pclass  Sex  Age  SibSp  Parch  Fare  Embarked  Survived\n",
       "null           0.0  0.0  0.0    0.0    0.0   0.0       0.0       0.0\n",
       "null_ratio     0.0  0.0  0.0    0.0    0.0   0.0       0.0       0.0"
      ]
     },
     "execution_count": 17,
     "metadata": {},
     "output_type": "execute_result"
    }
   ],
   "source": [
    "null = df.isnull().sum()\n",
    "null_ratio = null / df.shape[0]\n",
    "pd.DataFrame({\"null\":null,\"null_ratio\":null_ratio}).T"
   ]
  },
  {
   "cell_type": "markdown",
   "id": "eb3a73ea",
   "metadata": {},
   "source": [
    "# check for outliers"
   ]
  },
  {
   "cell_type": "code",
   "execution_count": 18,
   "id": "2e319121",
   "metadata": {},
   "outputs": [
    {
     "data": {
      "image/png": "[encoded data removed]",
      "text/plain": [
       "<Figure size 300x300 with 1 Axes>"
      ]
     },
     "metadata": {},
     "output_type": "display_data"
    }
   ],
   "source": [
    "plt.figure(figsize=(3,3))\n",
    "sns.boxplot(df);"
   ]
  },
  {
   "cell_type": "code",
   "execution_count": 19,
   "id": "03b7b220",
   "metadata": {},
   "outputs": [],
   "source": [
    "num_cols = df.select_dtypes(\"number\").columns"
   ]
  },
  {
   "cell_type": "code",
   "execution_count": 20,
   "id": "92f1fba1",
   "metadata": {},
   "outputs": [
    {
     "data": {
      "image/png": "[encoded data removed]",
      "text/plain": [
       "<Figure size 1000x200 with 2 Axes>"
      ]
     },
     "metadata": {},
     "output_type": "display_data"
    }
   ],
   "source": [
    "plt.figure(figsize=(10,2))\n",
    "for i , col in enumerate(num_cols):\n",
    "    plt.subplot(1,2,i+1)\n",
    "    plt.title(col)\n",
    "    sns.boxplot(df[col],orient=\"h\")\n",
    "plt.subplots_adjust(hspace=.5 , wspace=.5)\n",
    "plt.show()"
   ]
  },
  {
   "cell_type": "code",
   "execution_count": 21,
   "id": "bf54005b",
   "metadata": {},
   "outputs": [],
   "source": [
    "Q1 = df[\"Age\"].quantile(.25)\n",
    "Q3 = df[\"Age\"].quantile(.75)\n",
    "IQR = Q3 - Q1\n",
    "upper = Q3 + 1.5 * IQR\n",
    "lower = Q1 - 1.5 * IQR\n",
    "upper_out = df[df[\"Age\"] > upper][\"Age\"].values\n",
    "lower_out = df[df[\"Age\"] < lower][\"Age\"].values\n",
    "df[\"Age\"].replace(upper_out , upper ,inplace=True)\n",
    "df[\"Age\"].replace(lower_out , lower ,inplace=True)"
   ]
  },
  {
   "cell_type": "code",
   "execution_count": 22,
   "id": "1950bfdb",
   "metadata": {},
   "outputs": [],
   "source": [
    "for col in num_cols:\n",
    "    Q1 = df[col].quantile(.25)\n",
    "    Q3 = df[col].quantile(.75)\n",
    "    IQR = Q3 - Q1\n",
    "    upper = Q3 + 1.5 * IQR\n",
    "    lower = Q1 - 1.5 * IQR\n",
    "    upper_out = df[df[col] > upper][col].values\n",
    "    lower_out = df[df[col] < lower][col].values\n",
    "    df[col].replace(upper_out , upper ,inplace=True)\n",
    "    df[col].replace(lower_out , lower ,inplace=True)"
   ]
  },
  {
   "cell_type": "code",
   "execution_count": 23,
   "id": "8a4badfc",
   "metadata": {},
   "outputs": [
    {
     "data": {
      "image/png": "[encoded data removed]",
      "text/plain": [
       "<Figure size 1000x200 with 2 Axes>"
      ]
     },
     "metadata": {},
     "output_type": "display_data"
    }
   ],
   "source": [
    "plt.figure(figsize=(10,2))\n",
    "for i , col in enumerate(num_cols):\n",
    "    plt.subplot(1,2,i+1)\n",
    "    plt.title(col)\n",
    "    sns.boxplot(df[col],orient=\"h\")\n",
    "plt.subplots_adjust(hspace=.5 , wspace=.5)\n",
    "plt.show()"
   ]
  },
  {
   "cell_type": "code",
   "execution_count": 24,
   "id": "c233877a",
   "metadata": {},
   "outputs": [
    {
     "name": "stdout",
     "output_type": "stream",
     "text": [
      "129\n",
      "0\n"
     ]
    }
   ],
   "source": [
    "print(df.duplicated().sum())\n",
    "df.drop_duplicates(inplace=True)\n",
    "print(df.duplicated().sum())"
   ]
  },
  {
   "cell_type": "code",
   "execution_count": 25,
   "id": "9953273c",
   "metadata": {},
   "outputs": [],
   "source": [
    "from sklearn.model_selection import train_test_split\n",
    "\n",
    "x = df.iloc[:, :-1]\n",
    "y = df.iloc[:, -1:]\n",
    "\n",
    "x_train ,x_test ,y_train ,y_test = train_test_split(x,y, test_size=.2, random_state=42)"
   ]
  },
  {
   "cell_type": "code",
   "execution_count": 26,
   "id": "0523859b",
   "metadata": {},
   "outputs": [],
   "source": [
    "from sklearn.preprocessing import MinMaxScaler\n",
    "num_cols = x_train.select_dtypes(\"number\").columns\n",
    "scaler = MinMaxScaler()\n",
    "scaler.fit(x_train[num_cols])\n",
    "\n",
    "x_train[num_cols] = scaler.transform(x_train[num_cols])\n",
    "x_test[num_cols] = scaler.transform(x_test[num_cols])"
   ]
  },
  {
   "cell_type": "code",
   "execution_count": 27,
   "id": "b917305c",
   "metadata": {},
   "outputs": [
    {
     "data": {
      "text/html": [
       "<div>\n",
       "<style scoped>\n",
       "    .dataframe tbody tr th:only-of-type {\n",
       "        vertical-align: middle;\n",
       "    }\n",
       "\n",
       "    .dataframe tbody tr th {\n",
       "        vertical-align: top;\n",
       "    }\n",
       "\n",
       "    .dataframe thead th {\n",
       "        text-align: right;\n",
       "    }\n",
       "</style>\n",
       "<table border=\"1\" class=\"dataframe\">\n",
       "  <thead>\n",
       "    <tr style=\"text-align: right;\">\n",
       "      <th></th>\n",
       "      <th>Pclass</th>\n",
       "      <th>Sex</th>\n",
       "      <th>Age</th>\n",
       "      <th>SibSp</th>\n",
       "      <th>Parch</th>\n",
       "      <th>Fare</th>\n",
       "      <th>Embarked</th>\n",
       "    </tr>\n",
       "  </thead>\n",
       "  <tbody>\n",
       "    <tr>\n",
       "      <th>dtypes</th>\n",
       "      <td>category</td>\n",
       "      <td>category</td>\n",
       "      <td>float64</td>\n",
       "      <td>category</td>\n",
       "      <td>category</td>\n",
       "      <td>float64</td>\n",
       "      <td>category</td>\n",
       "    </tr>\n",
       "    <tr>\n",
       "      <th>n_uniq</th>\n",
       "      <td>3</td>\n",
       "      <td>2</td>\n",
       "      <td>65</td>\n",
       "      <td>7</td>\n",
       "      <td>7</td>\n",
       "      <td>204</td>\n",
       "      <td>3</td>\n",
       "    </tr>\n",
       "  </tbody>\n",
       "</table>\n",
       "</div>"
      ],
      "text/plain": [
       "          Pclass       Sex      Age     SibSp     Parch     Fare  Embarked\n",
       "dtypes  category  category  float64  category  category  float64  category\n",
       "n_uniq         3         2       65         7         7      204         3"
      ]
     },
     "execution_count": 27,
     "metadata": {},
     "output_type": "execute_result"
    }
   ],
   "source": [
    "dtypes = x.dtypes\n",
    "n_uniq = x.nunique()\n",
    "pd.DataFrame({\"dtypes\":dtypes,\"n_uniq\":n_uniq}).T"
   ]
  },
  {
   "cell_type": "code",
   "execution_count": 28,
   "id": "d29fca48",
   "metadata": {},
   "outputs": [],
   "source": [
    "from category_encoders import OneHotEncoder\n",
    "enc = OneHotEncoder(cols=[\"Sex\",\"Embarked\"])\n",
    "enc.fit(x_train)\n",
    "\n",
    "x_train = enc.transform(x_train)\n",
    "x_test = enc.transform(x_test)"
   ]
  },
  {
   "cell_type": "code",
   "execution_count": 38,
   "id": "878e9e23",
   "metadata": {},
   "outputs": [],
   "source": [
    "def initialize_parameters(input_size, hidden_size, output_size):\n",
    "    np.random.seed(42)\n",
    "    W1 = np.random.randn(input_size, hidden_size)\n",
    "    b1 = np.zeros((1, hidden_size))\n",
    "    W2 = np.random.randn(hidden_size, output_size)\n",
    "    b2 = np.zeros((1, output_size))\n",
    "    parameters = {\"W1\": W1, \"b1\": b1, \"W2\": W2, \"b2\": b2}\n",
    "    return parameters\n",
    " \n",
    "\"\"\"\"\"\n",
    "def sigmoid(z):\n",
    "    return 1 / (1 + np.exp(-z))\n",
    "\"\"\"\"\"\n",
    " #using softmax for multi classification\n",
    "def softmax(z):\n",
    "    exp_z = np.exp(z - np.max(z, axis=1, keepdims=True))\n",
    "    return exp_z / np.sum(exp_z, axis=1, keepdims=True)\n",
    "\n",
    "def forward_propagation(X, parameters):\n",
    "    W1, b1 = parameters[\"W1\"], parameters[\"b1\"]\n",
    "    W2, b2 = parameters[\"W2\"], parameters[\"b2\"]\n",
    "    \n",
    "    Z1 = np.dot(X, W1) + b1\n",
    "    A1 = softmax(Z1)\n",
    "    \n",
    "    Z2 = np.dot(A1, W2) + b2\n",
    "    A2 = softmax(Z2)\n",
    "    \n",
    "    cache = {\"Z1\": Z1, \"A1\": A1, \"Z2\": Z2, \"A2\": A2}\n",
    "    return A2, cache\n",
    "\n",
    "def compute_cost_nn(A2, Y):\n",
    "    m = Y.shape[0]\n",
    "   # epsilon = 1e-5\n",
    "    cost = (-1 / m) * np.sum(Y * np.log(A2)) # removing the epsilon bec. the softmax function dosn't need it\n",
    "    return cost\n",
    "\n",
    "def backward_propagation(parameters, cache, X, Y):\n",
    "    m = X.shape[0]\n",
    "    A1, A2 = cache[\"A1\"], cache[\"A2\"]\n",
    "    W2 = parameters[\"W2\"]\n",
    "    \n",
    "    dZ2 = A2 - Y\n",
    "    dW2 = 1 / m * np.dot(A1.T, dZ2)\n",
    "    db2 = 1 / m * np.sum(dZ2, axis=0, keepdims=True)\n",
    "    dZ1 = np.dot(dZ2, W2.T) * (1 - np.power(A1, 2)) #dervative of tanh to work with calssification\n",
    "    dW1 = 1 / m * np.dot(X.T, dZ1)\n",
    "    db1 = 1 / m * np.sum(dZ1, axis=0, keepdims=True)\n",
    "    \n",
    "    gradients = {\"dW1\": dW1, \"db1\": db1, \"dW2\": dW2, \"db2\": db2}\n",
    "    return gradients\n",
    "\n",
    "def update_parameters(parameters, gradients, learning_rate):\n",
    "    W1, b1, W2, b2 = parameters[\"W1\"], parameters[\"b1\"], parameters[\"W2\"], parameters[\"b2\"]\n",
    "    dW1, db1, dW2, db2 = gradients[\"dW1\"], gradients[\"db1\"], gradients[\"dW2\"], gradients[\"db2\"]\n",
    "    \n",
    "    W1 -= learning_rate * dW1\n",
    "    b1 -= learning_rate * db1\n",
    "    W2 -= learning_rate * dW2\n",
    "    b2 -= learning_rate * db2\n",
    "    \n",
    "    parameters = {\"W1\": W1, \"b1\": b1, \"W2\": W2, \"b2\": b2}\n",
    "    return parameters\n",
    "\n",
    "def predict_nn(X, parameters, threshold=0.5):\n",
    "    A2, _ = forward_propagation(X, parameters)\n",
    "    predictions = (A2 >= threshold).astype(int)\n",
    "    return predictions\n"
   ]
  },
  {
   "cell_type": "code",
   "execution_count": 39,
   "id": "bff22775",
   "metadata": {},
   "outputs": [
    {
     "name": "stdout",
     "output_type": "stream",
     "text": [
      "Neural Network Training Accuracy: 39.31%\n",
      "Neural Network Testing Accuracy: 47.37%\n"
     ]
    }
   ],
   "source": [
    "y_train_arr = y_train.values if isinstance(y_train, (pd.DataFrame, pd.Series)) else y_train\n",
    "y_test_arr = y_test.values if isinstance(y_test, (pd.DataFrame, pd.Series)) else y_test\n",
    "# Define neural network parameters\n",
    "input_size = x_train.shape[1]\n",
    "hidden_size = 4\n",
    "output_size = 1\n",
    "parameters_nn = initialize_parameters(input_size, hidden_size, output_size)\n",
    "\n",
    "# Train the neural network using gradient descent\n",
    "alpha_nn = 0.01\n",
    "num_iterations_nn = 1000\n",
    "for i in range(num_iterations_nn):\n",
    "    A2, cache = forward_propagation(x_train, parameters_nn)\n",
    "    cost = compute_cost_nn(A2, y_train_arr)\n",
    "    gradients = backward_propagation(parameters_nn, cache, x_train, y_train_arr)\n",
    "    parameters_nn = update_parameters(parameters_nn, gradients, alpha_nn)\n",
    "\n",
    "# Make predictions\n",
    "y_pred_train_nn = predict_nn(x_train, parameters_nn)\n",
    "y_pred_test_nn = predict_nn(x_test, parameters_nn)\n",
    "\n",
    "\n",
    "\n",
    "# Evaluate performance\n",
    "accuracy_train_nn = np.mean(y_pred_train_nn == y_train_arr.reshape(-1, 1)) * 100\n",
    "accuracy_test_nn = np.mean(y_pred_test_nn == y_test_arr.reshape(-1, 1)) * 100\n",
    "print(f\"Neural Network Training Accuracy: {accuracy_train_nn:.2f}%\")\n",
    "print(f\"Neural Network Testing Accuracy: {accuracy_test_nn:.2f}%\")\n"
   ]
  },
  {
   "cell_type": "code",
   "execution_count": null,
   "id": "b92acb2f",
   "metadata": {},
   "outputs": [],
   "source": []
  }
 ],
 "metadata": {
  "kernelspec": {
   "display_name": "Python 3 (ipykernel)",
   "language": "python",
   "name": "python3"
  },
  "language_info": {
   "codemirror_mode": {
    "name": "ipython",
    "version": 3
   },
   "file_extension": ".py",
   "mimetype": "text/x-python",
   "name": "python",
   "nbconvert_exporter": "python",
   "pygments_lexer": "ipython3",
   "version": "3.11.5"
  }
 },
 "nbformat": 4,
 "nbformat_minor": 5
}
